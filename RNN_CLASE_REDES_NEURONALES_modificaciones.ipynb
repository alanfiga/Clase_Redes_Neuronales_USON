{
  "nbformat": 4,
  "nbformat_minor": 0,
  "metadata": {
    "colab": {
      "name": "RNN_CLASE_REDES NEURONALES.ipynb",
      "provenance": [],
      "authorship_tag": "ABX9TyOKq5y7d5aPzGHUQ4/DGEEP",
      "include_colab_link": true
    },
    "kernelspec": {
      "name": "python3",
      "display_name": "Python 3"
    },
    "language_info": {
      "name": "python"
    }
  },
  "cells": [
    {
      "cell_type": "markdown",
      "metadata": {
        "id": "view-in-github",
        "colab_type": "text"
      },
      "source": [
        "<a href=\"https://colab.research.google.com/github/alanfiga/Neural_Networks_USON/blob/main/RNN_CLASE_REDES_NEURONALES_modificaciones.ipynb\" target=\"_parent\"><img src=\"https://colab.research.google.com/assets/colab-badge.svg\" alt=\"Open In Colab\"/></a>"
      ]
    },
    {
      "cell_type": "markdown",
      "metadata": {
        "id": "a2XrzxwOazY1"
      },
      "source": [
        "**RNN - LSTM: DOGECOIN**"
      ]
    },
    {
      "cell_type": "markdown",
      "metadata": {
        "id": "GKXHh9hKa7ER"
      },
      "source": [
        "*Configuración Inicial*"
      ]
    },
    {
      "cell_type": "code",
      "metadata": {
        "colab": {
          "base_uri": "https://localhost:8080/"
        },
        "id": "M82IxSMvpgtL",
        "outputId": "3376d556-1287-429c-f66b-03166d3053f4"
      },
      "source": [
        "!pip install tensorflow-gpu==2.4.1"
      ],
      "execution_count": 1,
      "outputs": [
        {
          "output_type": "stream",
          "text": [
            "Collecting tensorflow-gpu==2.4.1\n",
            "\u001b[?25l  Downloading https://files.pythonhosted.org/packages/85/cc/a27e73cf8b23f2ce4bdd2b7089a42a7819ce6dd7366dceba406ddc5daa9c/tensorflow_gpu-2.4.1-cp37-cp37m-manylinux2010_x86_64.whl (394.3MB)\n",
            "\u001b[K     |████████████████████████████████| 394.3MB 40kB/s \n",
            "\u001b[?25hRequirement already satisfied: astunparse~=1.6.3 in /usr/local/lib/python3.7/dist-packages (from tensorflow-gpu==2.4.1) (1.6.3)\n",
            "Requirement already satisfied: wrapt~=1.12.1 in /usr/local/lib/python3.7/dist-packages (from tensorflow-gpu==2.4.1) (1.12.1)\n",
            "Requirement already satisfied: gast==0.3.3 in /usr/local/lib/python3.7/dist-packages (from tensorflow-gpu==2.4.1) (0.3.3)\n",
            "Requirement already satisfied: tensorflow-estimator<2.5.0,>=2.4.0 in /usr/local/lib/python3.7/dist-packages (from tensorflow-gpu==2.4.1) (2.4.0)\n",
            "Requirement already satisfied: termcolor~=1.1.0 in /usr/local/lib/python3.7/dist-packages (from tensorflow-gpu==2.4.1) (1.1.0)\n",
            "Requirement already satisfied: numpy~=1.19.2 in /usr/local/lib/python3.7/dist-packages (from tensorflow-gpu==2.4.1) (1.19.5)\n",
            "Requirement already satisfied: google-pasta~=0.2 in /usr/local/lib/python3.7/dist-packages (from tensorflow-gpu==2.4.1) (0.2.0)\n",
            "Requirement already satisfied: h5py~=2.10.0 in /usr/local/lib/python3.7/dist-packages (from tensorflow-gpu==2.4.1) (2.10.0)\n",
            "Requirement already satisfied: protobuf>=3.9.2 in /usr/local/lib/python3.7/dist-packages (from tensorflow-gpu==2.4.1) (3.12.4)\n",
            "Requirement already satisfied: six~=1.15.0 in /usr/local/lib/python3.7/dist-packages (from tensorflow-gpu==2.4.1) (1.15.0)\n",
            "Requirement already satisfied: typing-extensions~=3.7.4 in /usr/local/lib/python3.7/dist-packages (from tensorflow-gpu==2.4.1) (3.7.4.3)\n",
            "Requirement already satisfied: tensorboard~=2.4 in /usr/local/lib/python3.7/dist-packages (from tensorflow-gpu==2.4.1) (2.4.1)\n",
            "Requirement already satisfied: absl-py~=0.10 in /usr/local/lib/python3.7/dist-packages (from tensorflow-gpu==2.4.1) (0.12.0)\n",
            "Requirement already satisfied: grpcio~=1.32.0 in /usr/local/lib/python3.7/dist-packages (from tensorflow-gpu==2.4.1) (1.32.0)\n",
            "Requirement already satisfied: keras-preprocessing~=1.1.2 in /usr/local/lib/python3.7/dist-packages (from tensorflow-gpu==2.4.1) (1.1.2)\n",
            "Requirement already satisfied: opt-einsum~=3.3.0 in /usr/local/lib/python3.7/dist-packages (from tensorflow-gpu==2.4.1) (3.3.0)\n",
            "Requirement already satisfied: flatbuffers~=1.12.0 in /usr/local/lib/python3.7/dist-packages (from tensorflow-gpu==2.4.1) (1.12)\n",
            "Requirement already satisfied: wheel~=0.35 in /usr/local/lib/python3.7/dist-packages (from tensorflow-gpu==2.4.1) (0.36.2)\n",
            "Requirement already satisfied: setuptools in /usr/local/lib/python3.7/dist-packages (from protobuf>=3.9.2->tensorflow-gpu==2.4.1) (56.1.0)\n",
            "Requirement already satisfied: google-auth-oauthlib<0.5,>=0.4.1 in /usr/local/lib/python3.7/dist-packages (from tensorboard~=2.4->tensorflow-gpu==2.4.1) (0.4.4)\n",
            "Requirement already satisfied: markdown>=2.6.8 in /usr/local/lib/python3.7/dist-packages (from tensorboard~=2.4->tensorflow-gpu==2.4.1) (3.3.4)\n",
            "Requirement already satisfied: google-auth<2,>=1.6.3 in /usr/local/lib/python3.7/dist-packages (from tensorboard~=2.4->tensorflow-gpu==2.4.1) (1.30.0)\n",
            "Requirement already satisfied: requests<3,>=2.21.0 in /usr/local/lib/python3.7/dist-packages (from tensorboard~=2.4->tensorflow-gpu==2.4.1) (2.23.0)\n",
            "Requirement already satisfied: werkzeug>=0.11.15 in /usr/local/lib/python3.7/dist-packages (from tensorboard~=2.4->tensorflow-gpu==2.4.1) (1.0.1)\n",
            "Requirement already satisfied: tensorboard-plugin-wit>=1.6.0 in /usr/local/lib/python3.7/dist-packages (from tensorboard~=2.4->tensorflow-gpu==2.4.1) (1.8.0)\n",
            "Requirement already satisfied: requests-oauthlib>=0.7.0 in /usr/local/lib/python3.7/dist-packages (from google-auth-oauthlib<0.5,>=0.4.1->tensorboard~=2.4->tensorflow-gpu==2.4.1) (1.3.0)\n",
            "Requirement already satisfied: importlib-metadata; python_version < \"3.8\" in /usr/local/lib/python3.7/dist-packages (from markdown>=2.6.8->tensorboard~=2.4->tensorflow-gpu==2.4.1) (4.0.1)\n",
            "Requirement already satisfied: pyasn1-modules>=0.2.1 in /usr/local/lib/python3.7/dist-packages (from google-auth<2,>=1.6.3->tensorboard~=2.4->tensorflow-gpu==2.4.1) (0.2.8)\n",
            "Requirement already satisfied: cachetools<5.0,>=2.0.0 in /usr/local/lib/python3.7/dist-packages (from google-auth<2,>=1.6.3->tensorboard~=2.4->tensorflow-gpu==2.4.1) (4.2.2)\n",
            "Requirement already satisfied: rsa<5,>=3.1.4; python_version >= \"3.6\" in /usr/local/lib/python3.7/dist-packages (from google-auth<2,>=1.6.3->tensorboard~=2.4->tensorflow-gpu==2.4.1) (4.7.2)\n",
            "Requirement already satisfied: certifi>=2017.4.17 in /usr/local/lib/python3.7/dist-packages (from requests<3,>=2.21.0->tensorboard~=2.4->tensorflow-gpu==2.4.1) (2020.12.5)\n",
            "Requirement already satisfied: urllib3!=1.25.0,!=1.25.1,<1.26,>=1.21.1 in /usr/local/lib/python3.7/dist-packages (from requests<3,>=2.21.0->tensorboard~=2.4->tensorflow-gpu==2.4.1) (1.24.3)\n",
            "Requirement already satisfied: idna<3,>=2.5 in /usr/local/lib/python3.7/dist-packages (from requests<3,>=2.21.0->tensorboard~=2.4->tensorflow-gpu==2.4.1) (2.10)\n",
            "Requirement already satisfied: chardet<4,>=3.0.2 in /usr/local/lib/python3.7/dist-packages (from requests<3,>=2.21.0->tensorboard~=2.4->tensorflow-gpu==2.4.1) (3.0.4)\n",
            "Requirement already satisfied: oauthlib>=3.0.0 in /usr/local/lib/python3.7/dist-packages (from requests-oauthlib>=0.7.0->google-auth-oauthlib<0.5,>=0.4.1->tensorboard~=2.4->tensorflow-gpu==2.4.1) (3.1.0)\n",
            "Requirement already satisfied: zipp>=0.5 in /usr/local/lib/python3.7/dist-packages (from importlib-metadata; python_version < \"3.8\"->markdown>=2.6.8->tensorboard~=2.4->tensorflow-gpu==2.4.1) (3.4.1)\n",
            "Requirement already satisfied: pyasn1<0.5.0,>=0.4.6 in /usr/local/lib/python3.7/dist-packages (from pyasn1-modules>=0.2.1->google-auth<2,>=1.6.3->tensorboard~=2.4->tensorflow-gpu==2.4.1) (0.4.8)\n",
            "Installing collected packages: tensorflow-gpu\n",
            "Successfully installed tensorflow-gpu-2.4.1\n"
          ],
          "name": "stdout"
        }
      ]
    },
    {
      "cell_type": "code",
      "metadata": {
        "id": "3Xo2NGRPXkB9"
      },
      "source": [
        "import os\n",
        "import numpy as np\n",
        "import tensorflow as tf\n",
        "from tensorflow import keras\n",
        "import pandas as pd\n",
        "import seaborn as sns\n",
        "from pylab import rcParams\n",
        "import matplotlib.pyplot as plt\n",
        "from matplotlib import rc\n",
        "from sklearn.preprocessing import MinMaxScaler\n",
        "from tensorflow.keras.layers import Bidirectional, Dropout, Activation, Dense, LSTM\n",
        "from tensorflow.python.keras.layers import CuDNNLSTM\n",
        "from tensorflow.keras.models import Sequential\n",
        "\n",
        "%matplotlib inline\n",
        "\n",
        "sns.set(style='whitegrid', palette='muted', font_scale=1.5)\n",
        "\n",
        "rcParams['figure.figsize'] = 14, 8\n",
        "\n",
        "RANDOM_SEED = 42\n",
        "\n",
        "np.random.seed(RANDOM_SEED)"
      ],
      "execution_count": 3,
      "outputs": []
    },
    {
      "cell_type": "code",
      "metadata": {
        "id": "M1dzwTCAXtyv"
      },
      "source": [
        "csv_path = 'doge.csv'"
      ],
      "execution_count": 4,
      "outputs": []
    },
    {
      "cell_type": "code",
      "metadata": {
        "id": "SZgg9jWwYsEA"
      },
      "source": [
        "df = pd.read_csv(csv_path, index_col=\"date\", parse_dates=['date'])"
      ],
      "execution_count": 5,
      "outputs": []
    },
    {
      "cell_type": "code",
      "metadata": {
        "id": "CebmyKWtYy0Q"
      },
      "source": [
        "df = df.sort_values('date')"
      ],
      "execution_count": 6,
      "outputs": []
    },
    {
      "cell_type": "code",
      "metadata": {
        "colab": {
          "base_uri": "https://localhost:8080/",
          "height": 225
        },
        "id": "g6NFimJYaLOP",
        "outputId": "99189f1b-360e-4686-eeb8-4ceb340cff99"
      },
      "source": [
        "df.head()"
      ],
      "execution_count": 7,
      "outputs": [
        {
          "output_type": "execute_result",
          "data": {
            "text/html": [
              "<div>\n",
              "<style scoped>\n",
              "    .dataframe tbody tr th:only-of-type {\n",
              "        vertical-align: middle;\n",
              "    }\n",
              "\n",
              "    .dataframe tbody tr th {\n",
              "        vertical-align: top;\n",
              "    }\n",
              "\n",
              "    .dataframe thead th {\n",
              "        text-align: right;\n",
              "    }\n",
              "</style>\n",
              "<table border=\"1\" class=\"dataframe\">\n",
              "  <thead>\n",
              "    <tr style=\"text-align: right;\">\n",
              "      <th></th>\n",
              "      <th>close</th>\n",
              "    </tr>\n",
              "    <tr>\n",
              "      <th>date</th>\n",
              "      <th></th>\n",
              "    </tr>\n",
              "  </thead>\n",
              "  <tbody>\n",
              "    <tr>\n",
              "      <th>2016-05-12</th>\n",
              "      <td>0.000235</td>\n",
              "    </tr>\n",
              "    <tr>\n",
              "      <th>2016-05-13</th>\n",
              "      <td>0.000236</td>\n",
              "    </tr>\n",
              "    <tr>\n",
              "      <th>2016-05-14</th>\n",
              "      <td>0.000231</td>\n",
              "    </tr>\n",
              "    <tr>\n",
              "      <th>2016-05-15</th>\n",
              "      <td>0.000231</td>\n",
              "    </tr>\n",
              "    <tr>\n",
              "      <th>2016-05-16</th>\n",
              "      <td>0.000229</td>\n",
              "    </tr>\n",
              "  </tbody>\n",
              "</table>\n",
              "</div>"
            ],
            "text/plain": [
              "               close\n",
              "date                \n",
              "2016-05-12  0.000235\n",
              "2016-05-13  0.000236\n",
              "2016-05-14  0.000231\n",
              "2016-05-15  0.000231\n",
              "2016-05-16  0.000229"
            ]
          },
          "metadata": {
            "tags": []
          },
          "execution_count": 7
        }
      ]
    },
    {
      "cell_type": "code",
      "metadata": {
        "colab": {
          "base_uri": "https://localhost:8080/"
        },
        "id": "VJqRjzCAaLUW",
        "outputId": "86d22648-d9bf-4154-d31e-3c99a74eabc5"
      },
      "source": [
        "df.shape"
      ],
      "execution_count": 6,
      "outputs": [
        {
          "output_type": "execute_result",
          "data": {
            "text/plain": [
              "(1827, 2)"
            ]
          },
          "metadata": {
            "tags": []
          },
          "execution_count": 6
        }
      ]
    },
    {
      "cell_type": "code",
      "metadata": {
        "colab": {
          "base_uri": "https://localhost:8080/",
          "height": 335
        },
        "id": "uYuh2mjLaPnn",
        "outputId": "d50b3d2a-e593-426f-d9f9-b284065489b1"
      },
      "source": [
        "ax = df.plot(x='date', y='close');\n",
        "ax.set_xlabel(\"Date\")\n",
        "ax.set_ylabel(\"Close Price (USD)\")\n",
        "ax.set_title(\"DOGECOIN\")"
      ],
      "execution_count": 7,
      "outputs": [
        {
          "output_type": "execute_result",
          "data": {
            "text/plain": [
              "Text(0.5, 1.0, 'DOGECOIN')"
            ]
          },
          "metadata": {
            "tags": []
          },
          "execution_count": 7
        },
        {
          "output_type": "display_data",
          "data": {
            "image/png": "[encoded data removed]",
            "text/plain": [
              "<Figure size 432x288 with 1 Axes>"
            ]
          },
          "metadata": {
            "tags": [],
            "needs_background": "light"
          }
        }
      ]
    },
    {
      "cell_type": "markdown",
      "metadata": {
        "id": "BFMUNcEHbC1D"
      },
      "source": [
        "*NORMALIZACIÓN*"
      ]
    },
    {
      "cell_type": "code",
      "metadata": {
        "id": "vpvEeHIDaUAo"
      },
      "source": [
        "scaler = MinMaxScaler()\n",
        "\n",
        "close_price = df.close.values.reshape(-1, 1)\n",
        "\n",
        "scaled_close = scaler.fit_transform(close_price)"
      ],
      "execution_count": 8,
      "outputs": []
    },
    {
      "cell_type": "code",
      "metadata": {
        "colab": {
          "base_uri": "https://localhost:8080/"
        },
        "id": "H_9xOETlaWkf",
        "outputId": "5c8d711c-353c-488a-b1a1-c9ac52affc4d"
      },
      "source": [
        "scaled_close.shape"
      ],
      "execution_count": 9,
      "outputs": [
        {
          "output_type": "execute_result",
          "data": {
            "text/plain": [
              "(1827, 1)"
            ]
          },
          "metadata": {
            "tags": []
          },
          "execution_count": 9
        }
      ]
    },
    {
      "cell_type": "code",
      "metadata": {
        "colab": {
          "base_uri": "https://localhost:8080/"
        },
        "id": "oFkayB3FaaFP",
        "outputId": "3ca26494-efac-4d91-cb45-28fc895242ed"
      },
      "source": [
        "np.isnan(scaled_close).any()"
      ],
      "execution_count": 10,
      "outputs": [
        {
          "output_type": "execute_result",
          "data": {
            "text/plain": [
              "False"
            ]
          },
          "metadata": {
            "tags": []
          },
          "execution_count": 10
        }
      ]
    },
    {
      "cell_type": "code",
      "metadata": {
        "id": "Nil5ROpgab1R"
      },
      "source": [
        "scaled_close = scaled_close[~np.isnan(scaled_close)]"
      ],
      "execution_count": 11,
      "outputs": []
    },
    {
      "cell_type": "code",
      "metadata": {
        "id": "gphLmi6TadcP"
      },
      "source": [
        "scaled_close = scaled_close.reshape(-1, 1)"
      ],
      "execution_count": 12,
      "outputs": []
    },
    {
      "cell_type": "code",
      "metadata": {
        "colab": {
          "base_uri": "https://localhost:8080/"
        },
        "id": "k0x3tO74afEA",
        "outputId": "d57e7a1f-18d5-40ab-f1c6-ac57e0c76960"
      },
      "source": [
        "np.isnan(scaled_close).any()"
      ],
      "execution_count": 13,
      "outputs": [
        {
          "output_type": "execute_result",
          "data": {
            "text/plain": [
              "False"
            ]
          },
          "metadata": {
            "tags": []
          },
          "execution_count": 13
        }
      ]
    },
    {
      "cell_type": "markdown",
      "metadata": {
        "id": "WU7qjx7ibGba"
      },
      "source": [
        "*PREPROCESAMIENTO*"
      ]
    },
    {
      "cell_type": "code",
      "metadata": {
        "id": "IqCKp1GmajAQ"
      },
      "source": [
        "SEQ_LEN = 100\n",
        "\n",
        "def to_sequences(data, seq_len):\n",
        "    d = []\n",
        "\n",
        "    for index in range(len(data) - seq_len):\n",
        "        d.append(data[index: index + seq_len])\n",
        "\n",
        "    return np.array(d)\n",
        "\n",
        "def preprocess(data_raw, seq_len, train_split):\n",
        "\n",
        "    data = to_sequences(data_raw, seq_len)\n",
        "\n",
        "    num_train = int(train_split * data.shape[0])\n",
        "\n",
        "    X_train = data[:num_train, :-1, :]\n",
        "    y_train = data[:num_train, -1, :]\n",
        "\n",
        "    X_test = data[num_train:, :-1, :]\n",
        "    y_test = data[num_train:, -1, :]\n",
        "\n",
        "    return X_train, y_train, X_test, y_test\n",
        "\n",
        "\n",
        "X_train, y_train, X_test, y_test = preprocess(scaled_close, SEQ_LEN, train_split = 0.95)"
      ],
      "execution_count": 14,
      "outputs": []
    },
    {
      "cell_type": "code",
      "metadata": {
        "colab": {
          "base_uri": "https://localhost:8080/"
        },
        "id": "C2pBLQI4ajnC",
        "outputId": "bfaa3de7-b01a-4965-bac0-3aeac6438762"
      },
      "source": [
        "X_train.shape"
      ],
      "execution_count": 15,
      "outputs": [
        {
          "output_type": "execute_result",
          "data": {
            "text/plain": [
              "(1640, 99, 1)"
            ]
          },
          "metadata": {
            "tags": []
          },
          "execution_count": 15
        }
      ]
    },
    {
      "cell_type": "code",
      "metadata": {
        "colab": {
          "base_uri": "https://localhost:8080/"
        },
        "id": "Gp7xQ2cmalWo",
        "outputId": "f2daca07-6e0a-4086-f52c-9d6cba51a68b"
      },
      "source": [
        "X_test.shape"
      ],
      "execution_count": 16,
      "outputs": [
        {
          "output_type": "execute_result",
          "data": {
            "text/plain": [
              "(87, 99, 1)"
            ]
          },
          "metadata": {
            "tags": []
          },
          "execution_count": 16
        }
      ]
    },
    {
      "cell_type": "markdown",
      "metadata": {
        "id": "W0E8TujxbMcQ"
      },
      "source": [
        "***MODELO 1***"
      ]
    },
    {
      "cell_type": "code",
      "metadata": {
        "id": "u05a6pN7amqz"
      },
      "source": [
        "DROPOUT = 0.2\n",
        "WINDOW_SIZE = SEQ_LEN - 1\n",
        "\n",
        "model = keras.Sequential()\n",
        "\n",
        "model.add(Bidirectional(LSTM(WINDOW_SIZE, return_sequences=True),\n",
        "                        input_shape=(WINDOW_SIZE, X_train.shape[-1])))\n",
        "model.add(Dropout(rate=DROPOUT))\n",
        "\n",
        "model.add(Bidirectional(LSTM((WINDOW_SIZE * 2), return_sequences=True)))\n",
        "model.add(Dropout(rate=DROPOUT))\n",
        "\n",
        "model.add(Bidirectional(LSTM(WINDOW_SIZE, return_sequences=False)))\n",
        "\n",
        "model.add(Dense(units=1))\n",
        "\n",
        "model.add(Activation('linear'))\n",
        "\n"
      ],
      "execution_count": 18,
      "outputs": []
    },
    {
      "cell_type": "markdown",
      "metadata": {
        "id": "3duVpAtIbR3g"
      },
      "source": [
        "*ENTRENAMIENTO*"
      ]
    },
    {
      "cell_type": "code",
      "metadata": {
        "colab": {
          "base_uri": "https://localhost:8080/"
        },
        "id": "osoF-ooXaoox",
        "outputId": "c580bcb4-88a1-4a74-8203-f299a9586cb8"
      },
      "source": [
        "model.compile(\n",
        "    loss='mean_squared_error', \n",
        "    optimizer='adam'\n",
        ")\n",
        "\n",
        "model.summary()"
      ],
      "execution_count": 65,
      "outputs": [
        {
          "output_type": "stream",
          "text": [
            "Model: \"sequential_1\"\n",
            "_________________________________________________________________\n",
            "Layer (type)                 Output Shape              Param #   \n",
            "=================================================================\n",
            "bidirectional (Bidirectional (None, 99, 198)           79992     \n",
            "_________________________________________________________________\n",
            "dropout (Dropout)            (None, 99, 198)           0         \n",
            "_________________________________________________________________\n",
            "bidirectional_1 (Bidirection (None, 99, 396)           628848    \n",
            "_________________________________________________________________\n",
            "dropout_1 (Dropout)          (None, 99, 396)           0         \n",
            "_________________________________________________________________\n",
            "bidirectional_2 (Bidirection (None, 198)               392832    \n",
            "_________________________________________________________________\n",
            "dense (Dense)                (None, 1)                 199       \n",
            "_________________________________________________________________\n",
            "activation (Activation)      (None, 1)                 0         \n",
            "=================================================================\n",
            "Total params: 1,101,871\n",
            "Trainable params: 1,101,871\n",
            "Non-trainable params: 0\n",
            "_________________________________________________________________\n"
          ],
          "name": "stdout"
        }
      ]
    },
    {
      "cell_type": "code",
      "metadata": {
        "colab": {
          "base_uri": "https://localhost:8080/"
        },
        "id": "5KuEsgMmba_P",
        "outputId": "7c1ac5e2-f57c-48ee-fa18-913fd092b224"
      },
      "source": [
        "BATCH_SIZE = 64\n",
        "\n",
        "history = model.fit(\n",
        "    X_train, \n",
        "    y_train, \n",
        "    epochs=50, \n",
        "    batch_size=BATCH_SIZE, \n",
        "    shuffle=False,\n",
        "    validation_split=0.1\n",
        ")\n"
      ],
      "execution_count": 20,
      "outputs": [
        {
          "output_type": "stream",
          "text": [
            "Epoch 1/50\n",
            "24/24 [==============================] - 56s 2s/step - loss: 2.2685e-04 - val_loss: 6.5169e-04\n",
            "Epoch 2/50\n",
            "24/24 [==============================] - 43s 2s/step - loss: 1.4033e-05 - val_loss: 5.4743e-04\n",
            "Epoch 3/50\n",
            "24/24 [==============================] - 44s 2s/step - loss: 3.2765e-05 - val_loss: 5.5749e-04\n",
            "Epoch 4/50\n",
            "24/24 [==============================] - 44s 2s/step - loss: 2.7262e-05 - val_loss: 5.7242e-04\n",
            "Epoch 5/50\n",
            "24/24 [==============================] - 43s 2s/step - loss: 1.2854e-05 - val_loss: 5.3593e-04\n",
            "Epoch 6/50\n",
            "24/24 [==============================] - 44s 2s/step - loss: 1.2026e-05 - val_loss: 4.9530e-04\n",
            "Epoch 7/50\n",
            "24/24 [==============================] - 45s 2s/step - loss: 1.5838e-05 - val_loss: 4.8526e-04\n",
            "Epoch 8/50\n",
            "24/24 [==============================] - 45s 2s/step - loss: 1.3419e-05 - val_loss: 4.4196e-04\n",
            "Epoch 9/50\n",
            "24/24 [==============================] - 43s 2s/step - loss: 1.4783e-05 - val_loss: 4.3613e-04\n",
            "Epoch 10/50\n",
            "24/24 [==============================] - 45s 2s/step - loss: 1.5107e-05 - val_loss: 4.0468e-04\n",
            "Epoch 11/50\n",
            "24/24 [==============================] - 46s 2s/step - loss: 1.1342e-05 - val_loss: 3.8078e-04\n",
            "Epoch 12/50\n",
            "24/24 [==============================] - 46s 2s/step - loss: 1.7606e-05 - val_loss: 4.1860e-04\n",
            "Epoch 13/50\n",
            "24/24 [==============================] - 45s 2s/step - loss: 1.3011e-05 - val_loss: 3.4290e-04\n",
            "Epoch 14/50\n",
            "24/24 [==============================] - 45s 2s/step - loss: 1.4601e-05 - val_loss: 3.8751e-04\n",
            "Epoch 15/50\n",
            "24/24 [==============================] - 46s 2s/step - loss: 1.4459e-05 - val_loss: 3.6396e-04\n",
            "Epoch 16/50\n",
            "24/24 [==============================] - 47s 2s/step - loss: 6.7168e-06 - val_loss: 3.1429e-04\n",
            "Epoch 17/50\n",
            "24/24 [==============================] - 46s 2s/step - loss: 1.0234e-05 - val_loss: 3.3100e-04\n",
            "Epoch 18/50\n",
            "24/24 [==============================] - 45s 2s/step - loss: 1.0367e-05 - val_loss: 3.0088e-04\n",
            "Epoch 19/50\n",
            "24/24 [==============================] - 45s 2s/step - loss: 1.1249e-05 - val_loss: 3.0605e-04\n",
            "Epoch 20/50\n",
            "24/24 [==============================] - 45s 2s/step - loss: 1.2651e-05 - val_loss: 3.3761e-04\n",
            "Epoch 21/50\n",
            "24/24 [==============================] - 46s 2s/step - loss: 5.6471e-06 - val_loss: 2.8423e-04\n",
            "Epoch 22/50\n",
            "24/24 [==============================] - 46s 2s/step - loss: 1.0680e-05 - val_loss: 2.9910e-04\n",
            "Epoch 23/50\n",
            "24/24 [==============================] - 46s 2s/step - loss: 1.2232e-05 - val_loss: 3.1473e-04\n",
            "Epoch 24/50\n",
            "24/24 [==============================] - 45s 2s/step - loss: 5.8911e-06 - val_loss: 2.7397e-04\n",
            "Epoch 25/50\n",
            "24/24 [==============================] - 46s 2s/step - loss: 6.7149e-06 - val_loss: 2.5660e-04\n",
            "Epoch 26/50\n",
            "24/24 [==============================] - 46s 2s/step - loss: 8.3613e-06 - val_loss: 2.7478e-04\n",
            "Epoch 27/50\n",
            "24/24 [==============================] - 46s 2s/step - loss: 5.5891e-06 - val_loss: 2.6098e-04\n",
            "Epoch 28/50\n",
            "24/24 [==============================] - 45s 2s/step - loss: 7.0961e-06 - val_loss: 2.5157e-04\n",
            "Epoch 29/50\n",
            "24/24 [==============================] - 46s 2s/step - loss: 1.0478e-05 - val_loss: 2.8098e-04\n",
            "Epoch 30/50\n",
            "24/24 [==============================] - 46s 2s/step - loss: 5.4174e-06 - val_loss: 2.6215e-04\n",
            "Epoch 31/50\n",
            "24/24 [==============================] - 46s 2s/step - loss: 5.8037e-06 - val_loss: 2.4018e-04\n",
            "Epoch 32/50\n",
            "24/24 [==============================] - 44s 2s/step - loss: 6.3687e-06 - val_loss: 2.4537e-04\n",
            "Epoch 33/50\n",
            "24/24 [==============================] - 44s 2s/step - loss: 4.7324e-06 - val_loss: 2.4014e-04\n",
            "Epoch 34/50\n",
            "24/24 [==============================] - 44s 2s/step - loss: 5.2419e-06 - val_loss: 2.2728e-04\n",
            "Epoch 35/50\n",
            "24/24 [==============================] - 43s 2s/step - loss: 6.9894e-06 - val_loss: 2.3541e-04\n",
            "Epoch 36/50\n",
            "24/24 [==============================] - 43s 2s/step - loss: 5.1886e-06 - val_loss: 2.2827e-04\n",
            "Epoch 37/50\n",
            "24/24 [==============================] - 43s 2s/step - loss: 4.9666e-06 - val_loss: 2.1813e-04\n",
            "Epoch 38/50\n",
            "24/24 [==============================] - 43s 2s/step - loss: 5.8552e-06 - val_loss: 2.2360e-04\n",
            "Epoch 39/50\n",
            "24/24 [==============================] - 45s 2s/step - loss: 4.3718e-06 - val_loss: 2.1978e-04\n",
            "Epoch 40/50\n",
            "24/24 [==============================] - 45s 2s/step - loss: 4.5546e-06 - val_loss: 2.0541e-04\n",
            "Epoch 41/50\n",
            "24/24 [==============================] - 45s 2s/step - loss: 7.5100e-06 - val_loss: 2.2172e-04\n",
            "Epoch 42/50\n",
            "24/24 [==============================] - 45s 2s/step - loss: 4.6850e-06 - val_loss: 2.1933e-04\n",
            "Epoch 43/50\n",
            "24/24 [==============================] - 44s 2s/step - loss: 4.4189e-06 - val_loss: 2.0317e-04\n",
            "Epoch 44/50\n",
            "24/24 [==============================] - 46s 2s/step - loss: 6.9933e-06 - val_loss: 2.1448e-04\n",
            "Epoch 45/50\n",
            "24/24 [==============================] - 45s 2s/step - loss: 4.2723e-06 - val_loss: 2.1164e-04\n",
            "Epoch 46/50\n",
            "24/24 [==============================] - 44s 2s/step - loss: 4.6444e-06 - val_loss: 1.9952e-04\n",
            "Epoch 47/50\n",
            "24/24 [==============================] - 44s 2s/step - loss: 5.2172e-06 - val_loss: 1.9693e-04\n",
            "Epoch 48/50\n",
            "24/24 [==============================] - 44s 2s/step - loss: 4.7692e-06 - val_loss: 2.0303e-04\n",
            "Epoch 49/50\n",
            "24/24 [==============================] - 45s 2s/step - loss: 3.9386e-06 - val_loss: 2.0117e-04\n",
            "Epoch 50/50\n",
            "24/24 [==============================] - 45s 2s/step - loss: 5.2215e-06 - val_loss: 1.9495e-04\n"
          ],
          "name": "stdout"
        }
      ]
    },
    {
      "cell_type": "code",
      "metadata": {
        "colab": {
          "base_uri": "https://localhost:8080/"
        },
        "id": "dHNBKOTlbesh",
        "outputId": "70bbdd64-f809-49f4-b116-29b1f24461c4"
      },
      "source": [
        "model.evaluate(X_test, y_test)"
      ],
      "execution_count": 21,
      "outputs": [
        {
          "output_type": "stream",
          "text": [
            "3/3 [==============================] - 1s 311ms/step - loss: 0.0349\n"
          ],
          "name": "stdout"
        },
        {
          "output_type": "execute_result",
          "data": {
            "text/plain": [
              "0.03485806658864021"
            ]
          },
          "metadata": {
            "tags": []
          },
          "execution_count": 21
        }
      ]
    },
    {
      "cell_type": "code",
      "metadata": {
        "colab": {
          "base_uri": "https://localhost:8080/",
          "height": 318
        },
        "id": "nfCslZKBbf3x",
        "outputId": "a2177090-181b-4810-e380-66c89dcb5872"
      },
      "source": [
        "plt.plot(history.history['loss'])\n",
        "plt.plot(history.history['val_loss'])\n",
        "plt.title('model loss')\n",
        "plt.ylabel('loss')\n",
        "plt.xlabel('epoch')\n",
        "plt.legend(['train', 'test'], loc='upper left')\n",
        "plt.show()"
      ],
      "execution_count": 22,
      "outputs": [
        {
          "output_type": "display_data",
          "data": {
            "image/png": "[encoded data removed]",
            "text/plain": [
              "<Figure size 432x288 with 1 Axes>"
            ]
          },
          "metadata": {
            "tags": [],
            "needs_background": "light"
          }
        }
      ]
    },
    {
      "cell_type": "markdown",
      "metadata": {
        "id": "wvsx4KYablRZ"
      },
      "source": [
        "*PREDICCIÓN*"
      ]
    },
    {
      "cell_type": "code",
      "metadata": {
        "colab": {
          "base_uri": "https://localhost:8080/",
          "height": 318
        },
        "id": "GwBx16QRbniZ",
        "outputId": "ba7f89bd-1630-472a-da78-9e0d127dc4ee"
      },
      "source": [
        "y_hat = model.predict(X_test)\n",
        "\n",
        "y_test_inverse = scaler.inverse_transform(y_test)\n",
        "y_hat_inverse = scaler.inverse_transform(y_hat)\n",
        " \n",
        "plt.plot(y_test_inverse, label=\"Actual Price\", color='blue')\n",
        "plt.plot(y_hat_inverse, label=\"Predicted Price\", color='red')\n",
        " \n",
        "plt.title('DOGECOIN price prediction')\n",
        "plt.xlabel('Time [days]')\n",
        "plt.ylabel('Price')\n",
        "plt.legend(loc='best')\n",
        " \n",
        "plt.show();"
      ],
      "execution_count": 24,
      "outputs": [
        {
          "output_type": "display_data",
          "data": {
            "image/png": "[encoded data removed]",
            "text/plain": [
              "<Figure size 432x288 with 1 Axes>"
            ]
          },
          "metadata": {
            "tags": [],
            "needs_background": "light"
          }
        }
      ]
    },
    {
      "cell_type": "markdown",
      "metadata": {
        "id": "TCSF_eBM3Rzx"
      },
      "source": [
        "**MODELO 2**"
      ]
    },
    {
      "cell_type": "code",
      "metadata": {
        "id": "N37efYl1QHB6"
      },
      "source": [
        "DROPOUT = 0.15\n",
        "WINDOW_SIZE = SEQ_LEN - 1\n",
        "\n",
        "model2 = keras.Sequential()\n",
        "\n",
        "model2.add(Bidirectional(LSTM(WINDOW_SIZE, return_sequences=True),\n",
        "                        input_shape=(WINDOW_SIZE, X_train.shape[-1])))\n",
        "model2.add(Dropout(rate=DROPOUT))\n",
        "\n",
        "model2.add(Bidirectional(LSTM(WINDOW_SIZE, return_sequences=False)))\n",
        "\n",
        "model2.add(Dense(units=1))\n",
        "\n",
        "model2.add(Activation('linear'))"
      ],
      "execution_count": 54,
      "outputs": []
    },
    {
      "cell_type": "code",
      "metadata": {
        "colab": {
          "base_uri": "https://localhost:8080/"
        },
        "id": "ycTkAutV7qSZ",
        "outputId": "afc649fe-ca3e-4638-8fd7-64ea2b7dc55a"
      },
      "source": [
        "model2.compile(\n",
        "    loss='mean_squared_error', \n",
        "    optimizer='adam'\n",
        ")\n",
        "\n",
        "model2.summary()"
      ],
      "execution_count": 55,
      "outputs": [
        {
          "output_type": "stream",
          "text": [
            "Model: \"sequential_5\"\n",
            "_________________________________________________________________\n",
            "Layer (type)                 Output Shape              Param #   \n",
            "=================================================================\n",
            "bidirectional_13 (Bidirectio (None, 99, 198)           79992     \n",
            "_________________________________________________________________\n",
            "dropout_8 (Dropout)          (None, 99, 198)           0         \n",
            "_________________________________________________________________\n",
            "bidirectional_14 (Bidirectio (None, 198)               236016    \n",
            "_________________________________________________________________\n",
            "dense_5 (Dense)              (None, 1)                 199       \n",
            "_________________________________________________________________\n",
            "activation_4 (Activation)    (None, 1)                 0         \n",
            "=================================================================\n",
            "Total params: 316,207\n",
            "Trainable params: 316,207\n",
            "Non-trainable params: 0\n",
            "_________________________________________________________________\n"
          ],
          "name": "stdout"
        }
      ]
    },
    {
      "cell_type": "code",
      "metadata": {
        "colab": {
          "base_uri": "https://localhost:8080/"
        },
        "id": "P99VaYSn73Vh",
        "outputId": "38a304e9-46ef-4b7a-9145-d22a2011cab5"
      },
      "source": [
        "BATCH_SIZE = 128\n",
        "\n",
        "history = model2.fit(\n",
        "    X_train, \n",
        "    y_train, \n",
        "    epochs=75, \n",
        "    batch_size=BATCH_SIZE, \n",
        "    shuffle=False,\n",
        "    validation_split=0.1\n",
        ")"
      ],
      "execution_count": 56,
      "outputs": [
        {
          "output_type": "stream",
          "text": [
            "Epoch 1/75\n",
            "12/12 [==============================] - 20s 1s/step - loss: 1.6251e-04 - val_loss: 7.0925e-04\n",
            "Epoch 2/75\n",
            "12/12 [==============================] - 12s 1s/step - loss: 3.5406e-05 - val_loss: 5.7738e-04\n",
            "Epoch 3/75\n",
            "12/12 [==============================] - 12s 997ms/step - loss: 3.0318e-05 - val_loss: 5.3342e-04\n",
            "Epoch 4/75\n",
            "12/12 [==============================] - 12s 996ms/step - loss: 2.6946e-05 - val_loss: 5.5545e-04\n",
            "Epoch 5/75\n",
            "12/12 [==============================] - 12s 994ms/step - loss: 1.0576e-05 - val_loss: 5.2823e-04\n",
            "Epoch 6/75\n",
            "12/12 [==============================] - 12s 1s/step - loss: 1.1867e-05 - val_loss: 4.8776e-04\n",
            "Epoch 7/75\n",
            "12/12 [==============================] - 12s 996ms/step - loss: 1.4369e-05 - val_loss: 4.6410e-04\n",
            "Epoch 8/75\n",
            "12/12 [==============================] - 12s 989ms/step - loss: 1.4058e-05 - val_loss: 4.4460e-04\n",
            "Epoch 9/75\n",
            "12/12 [==============================] - 12s 990ms/step - loss: 1.3263e-05 - val_loss: 4.2446e-04\n",
            "Epoch 10/75\n",
            "12/12 [==============================] - 12s 998ms/step - loss: 1.3020e-05 - val_loss: 4.0677e-04\n",
            "Epoch 11/75\n",
            "12/12 [==============================] - 12s 992ms/step - loss: 1.3243e-05 - val_loss: 3.9380e-04\n",
            "Epoch 12/75\n",
            "12/12 [==============================] - 12s 1s/step - loss: 1.3730e-05 - val_loss: 3.8335e-04\n",
            "Epoch 13/75\n",
            "12/12 [==============================] - 12s 998ms/step - loss: 1.4310e-05 - val_loss: 3.7236e-04\n",
            "Epoch 14/75\n",
            "12/12 [==============================] - 12s 994ms/step - loss: 1.4451e-05 - val_loss: 3.5903e-04\n",
            "Epoch 15/75\n",
            "12/12 [==============================] - 12s 986ms/step - loss: 1.3921e-05 - val_loss: 3.4369e-04\n",
            "Epoch 16/75\n",
            "12/12 [==============================] - 12s 990ms/step - loss: 1.3092e-05 - val_loss: 3.2812e-04\n",
            "Epoch 17/75\n",
            "12/12 [==============================] - 12s 1s/step - loss: 1.2407e-05 - val_loss: 3.1481e-04\n",
            "Epoch 18/75\n",
            "12/12 [==============================] - 12s 997ms/step - loss: 1.2131e-05 - val_loss: 3.0413e-04\n",
            "Epoch 19/75\n",
            "12/12 [==============================] - 12s 997ms/step - loss: 1.2204e-05 - val_loss: 2.9459e-04\n",
            "Epoch 20/75\n",
            "12/12 [==============================] - 12s 1s/step - loss: 1.2346e-05 - val_loss: 2.8403e-04\n",
            "Epoch 21/75\n",
            "12/12 [==============================] - 12s 997ms/step - loss: 1.2177e-05 - val_loss: 2.7199e-04\n",
            "Epoch 22/75\n",
            "12/12 [==============================] - 12s 1s/step - loss: 1.1632e-05 - val_loss: 2.5907e-04\n",
            "Epoch 23/75\n",
            "12/12 [==============================] - 12s 989ms/step - loss: 1.0853e-05 - val_loss: 2.4737e-04\n",
            "Epoch 24/75\n",
            "12/12 [==============================] - 12s 989ms/step - loss: 1.0286e-05 - val_loss: 2.3799e-04\n",
            "Epoch 25/75\n",
            "12/12 [==============================] - 12s 996ms/step - loss: 1.0032e-05 - val_loss: 2.3019e-04\n",
            "Epoch 26/75\n",
            "12/12 [==============================] - 12s 998ms/step - loss: 1.0035e-05 - val_loss: 2.2246e-04\n",
            "Epoch 27/75\n",
            "12/12 [==============================] - 12s 999ms/step - loss: 9.9251e-06 - val_loss: 2.1447e-04\n",
            "Epoch 28/75\n",
            "12/12 [==============================] - 12s 1s/step - loss: 9.6674e-06 - val_loss: 2.0572e-04\n",
            "Epoch 29/75\n",
            "12/12 [==============================] - 12s 988ms/step - loss: 9.1394e-06 - val_loss: 1.9693e-04\n",
            "Epoch 30/75\n",
            "12/12 [==============================] - 12s 997ms/step - loss: 8.6046e-06 - val_loss: 1.8939e-04\n",
            "Epoch 31/75\n",
            "12/12 [==============================] - 12s 987ms/step - loss: 8.2273e-06 - val_loss: 1.8354e-04\n",
            "Epoch 32/75\n",
            "12/12 [==============================] - 12s 988ms/step - loss: 7.9787e-06 - val_loss: 1.7835e-04\n",
            "Epoch 33/75\n",
            "12/12 [==============================] - 12s 1s/step - loss: 7.8712e-06 - val_loss: 1.7278e-04\n",
            "Epoch 34/75\n",
            "12/12 [==============================] - 12s 1000ms/step - loss: 7.7027e-06 - val_loss: 1.6704e-04\n",
            "Epoch 35/75\n",
            "12/12 [==============================] - 12s 994ms/step - loss: 7.3625e-06 - val_loss: 1.6123e-04\n",
            "Epoch 36/75\n",
            "12/12 [==============================] - 12s 1s/step - loss: 6.9970e-06 - val_loss: 1.5600e-04\n",
            "Epoch 37/75\n",
            "12/12 [==============================] - 12s 996ms/step - loss: 6.6241e-06 - val_loss: 1.5147e-04\n",
            "Epoch 38/75\n",
            "12/12 [==============================] - 12s 999ms/step - loss: 6.3595e-06 - val_loss: 1.4776e-04\n",
            "Epoch 39/75\n",
            "12/12 [==============================] - 12s 990ms/step - loss: 6.1642e-06 - val_loss: 1.4391e-04\n",
            "Epoch 40/75\n",
            "12/12 [==============================] - 12s 1000ms/step - loss: 5.9968e-06 - val_loss: 1.4006e-04\n",
            "Epoch 41/75\n",
            "12/12 [==============================] - 12s 1s/step - loss: 5.7641e-06 - val_loss: 1.3618e-04\n",
            "Epoch 42/75\n",
            "12/12 [==============================] - 12s 1s/step - loss: 5.5393e-06 - val_loss: 1.3277e-04\n",
            "Epoch 43/75\n",
            "12/12 [==============================] - 12s 995ms/step - loss: 5.3159e-06 - val_loss: 1.2941e-04\n",
            "Epoch 44/75\n",
            "12/12 [==============================] - 12s 998ms/step - loss: 5.0921e-06 - val_loss: 1.2635e-04\n",
            "Epoch 45/75\n",
            "12/12 [==============================] - 12s 993ms/step - loss: 4.9025e-06 - val_loss: 1.2330e-04\n",
            "Epoch 46/75\n",
            "12/12 [==============================] - 12s 996ms/step - loss: 4.7108e-06 - val_loss: 1.2038e-04\n",
            "Epoch 47/75\n",
            "12/12 [==============================] - 12s 991ms/step - loss: 4.5532e-06 - val_loss: 1.1788e-04\n",
            "Epoch 48/75\n",
            "12/12 [==============================] - 12s 985ms/step - loss: 4.4424e-06 - val_loss: 1.1574e-04\n",
            "Epoch 49/75\n",
            "12/12 [==============================] - 12s 1s/step - loss: 4.3200e-06 - val_loss: 1.1330e-04\n",
            "Epoch 50/75\n",
            "12/12 [==============================] - 12s 998ms/step - loss: 4.1753e-06 - val_loss: 1.1108e-04\n",
            "Epoch 51/75\n",
            "12/12 [==============================] - 12s 1s/step - loss: 4.0129e-06 - val_loss: 1.0895e-04\n",
            "Epoch 52/75\n",
            "12/12 [==============================] - 12s 1s/step - loss: 3.9057e-06 - val_loss: 1.0672e-04\n",
            "Epoch 53/75\n",
            "12/12 [==============================] - 12s 998ms/step - loss: 3.7752e-06 - val_loss: 1.0515e-04\n",
            "Epoch 54/75\n",
            "12/12 [==============================] - 12s 1s/step - loss: 3.6628e-06 - val_loss: 1.0302e-04\n",
            "Epoch 55/75\n",
            "12/12 [==============================] - 12s 987ms/step - loss: 3.5349e-06 - val_loss: 1.0108e-04\n",
            "Epoch 56/75\n",
            "12/12 [==============================] - 12s 998ms/step - loss: 3.4201e-06 - val_loss: 9.9581e-05\n",
            "Epoch 57/75\n",
            "12/12 [==============================] - 12s 1s/step - loss: 3.3091e-06 - val_loss: 9.8150e-05\n",
            "Epoch 58/75\n",
            "12/12 [==============================] - 12s 988ms/step - loss: 3.2825e-06 - val_loss: 9.6734e-05\n",
            "Epoch 59/75\n",
            "12/12 [==============================] - 12s 1s/step - loss: 3.2354e-06 - val_loss: 9.5073e-05\n",
            "Epoch 60/75\n",
            "12/12 [==============================] - 12s 1s/step - loss: 3.1312e-06 - val_loss: 9.3705e-05\n",
            "Epoch 61/75\n",
            "12/12 [==============================] - 12s 1s/step - loss: 3.0778e-06 - val_loss: 9.2155e-05\n",
            "Epoch 62/75\n",
            "12/12 [==============================] - 12s 1s/step - loss: 2.9842e-06 - val_loss: 9.0533e-05\n",
            "Epoch 63/75\n",
            "12/12 [==============================] - 12s 997ms/step - loss: 2.9018e-06 - val_loss: 8.9075e-05\n",
            "Epoch 64/75\n",
            "12/12 [==============================] - 12s 1s/step - loss: 2.8447e-06 - val_loss: 8.7771e-05\n",
            "Epoch 65/75\n",
            "12/12 [==============================] - 12s 1s/step - loss: 2.7605e-06 - val_loss: 8.6863e-05\n",
            "Epoch 66/75\n",
            "12/12 [==============================] - 12s 1s/step - loss: 2.7743e-06 - val_loss: 8.5746e-05\n",
            "Epoch 67/75\n",
            "12/12 [==============================] - 12s 1s/step - loss: 2.7382e-06 - val_loss: 8.4910e-05\n",
            "Epoch 68/75\n",
            "12/12 [==============================] - 12s 1s/step - loss: 2.7464e-06 - val_loss: 8.3610e-05\n",
            "Epoch 69/75\n",
            "12/12 [==============================] - 12s 1s/step - loss: 2.6811e-06 - val_loss: 8.2573e-05\n",
            "Epoch 70/75\n",
            "12/12 [==============================] - 12s 1s/step - loss: 2.6322e-06 - val_loss: 8.1730e-05\n",
            "Epoch 71/75\n",
            "12/12 [==============================] - 12s 996ms/step - loss: 2.5859e-06 - val_loss: 8.0765e-05\n",
            "Epoch 72/75\n",
            "12/12 [==============================] - 12s 998ms/step - loss: 2.5351e-06 - val_loss: 7.9618e-05\n",
            "Epoch 73/75\n",
            "12/12 [==============================] - 12s 1s/step - loss: 2.4930e-06 - val_loss: 7.8756e-05\n",
            "Epoch 74/75\n",
            "12/12 [==============================] - 12s 1s/step - loss: 2.4480e-06 - val_loss: 7.7715e-05\n",
            "Epoch 75/75\n",
            "12/12 [==============================] - 12s 1s/step - loss: 2.4373e-06 - val_loss: 7.7015e-05\n"
          ],
          "name": "stdout"
        }
      ]
    },
    {
      "cell_type": "code",
      "metadata": {
        "colab": {
          "base_uri": "https://localhost:8080/"
        },
        "id": "r-DVTxr7-bY7",
        "outputId": "3ac2c9f1-6ad6-49cb-bdd0-3d5e19e86a31"
      },
      "source": [
        "model2.evaluate(X_test, y_test)"
      ],
      "execution_count": 57,
      "outputs": [
        {
          "output_type": "stream",
          "text": [
            "3/3 [==============================] - 0s 101ms/step - loss: 0.0126\n"
          ],
          "name": "stdout"
        },
        {
          "output_type": "execute_result",
          "data": {
            "text/plain": [
              "0.012640077620744705"
            ]
          },
          "metadata": {
            "tags": []
          },
          "execution_count": 57
        }
      ]
    },
    {
      "cell_type": "code",
      "metadata": {
        "colab": {
          "base_uri": "https://localhost:8080/",
          "height": 535
        },
        "id": "74ABywpC-hax",
        "outputId": "96f44cc4-9285-4b41-ade4-59b1a1670a8c"
      },
      "source": [
        "plt.plot(history.history['loss'])\n",
        "plt.plot(history.history['val_loss'])\n",
        "plt.title('model loss')\n",
        "plt.ylabel('loss')\n",
        "plt.xlabel('epoch')\n",
        "plt.legend(['train', 'test'], loc='upper left')\n",
        "plt.show()"
      ],
      "execution_count": 58,
      "outputs": [
        {
          "output_type": "display_data",
          "data": {
            "image/png": "[encoded data removed]",
            "text/plain": [
              "<Figure size 1008x576 with 1 Axes>"
            ]
          },
          "metadata": {
            "tags": []
          }
        }
      ]
    },
    {
      "cell_type": "code",
      "metadata": {
        "colab": {
          "base_uri": "https://localhost:8080/",
          "height": 535
        },
        "id": "0--t6ESn-kzK",
        "outputId": "089a5151-f32f-4dc7-c052-c892da2922c0"
      },
      "source": [
        "y_test_inverse = scaler.inverse_transform(y_test)\n",
        "y_hat_inverse = scaler.inverse_transform(model2.predict(X_test))\n",
        " \n",
        "plt.plot(y_test_inverse, label=\"Actual Price\", color='blue')\n",
        "plt.plot(y_hat_inverse, label=\"Predicted Price\", color='red')\n",
        " \n",
        "plt.title('DOGECOIN price prediction')\n",
        "plt.xlabel('Time [days]')\n",
        "plt.ylabel('Price')\n",
        "plt.legend(loc='best')\n",
        " \n",
        "plt.show();"
      ],
      "execution_count": 59,
      "outputs": [
        {
          "output_type": "display_data",
          "data": {
            "image/png": "[encoded data removed]",
            "text/plain": [
              "<Figure size 1008x576 with 1 Axes>"
            ]
          },
          "metadata": {
            "tags": []
          }
        }
      ]
    }
  ]
}